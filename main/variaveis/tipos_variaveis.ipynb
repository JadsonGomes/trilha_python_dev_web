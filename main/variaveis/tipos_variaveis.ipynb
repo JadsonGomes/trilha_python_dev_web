{
 "cells": [
  {
   "cell_type": "code",
   "execution_count": null,
   "metadata": {},
   "outputs": [],
   "source": [
    "Uma variável é um objeto, afinal tudo é um objeto em Python\n",
    "\n",
    "int -> inteiro<br>\n",
    "string -> texto<br>\n",
    "float -> números com casas decimais (ponto flutuante)<br>\n",
    "bool ou boolean -> True ou False <br>\n",
    "\n",
    "Obs: Variáveis em Python não são declaradas explicitamente, mas isso não significa que você deve ficar mudando o tempo todo\n",
    "\n",
    "Obs2: Cuidado com os nomes restritos (arquivo para Download)"
   ]
  },
  {
   "cell_type": "code",
   "execution_count": null,
   "metadata": {},
   "outputs": [],
   "source": [
    "print('Olá mundo')"
   ]
  }
 ],
 "metadata": {
  "language_info": {
   "name": "python"
  }
 },
 "nbformat": 4,
 "nbformat_minor": 2
}
